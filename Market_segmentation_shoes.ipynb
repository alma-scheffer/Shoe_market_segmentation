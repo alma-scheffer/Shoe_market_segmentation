{
  "nbformat": 4,
  "nbformat_minor": 0,
  "metadata": {
    "colab": {
      "name": "Market_segmentation_shoes.ipynb",
      "provenance": [],
      "toc_visible": true,
      "authorship_tag": "ABX9TyPVshkBbFVoQLhedCEI+D9n",
      "include_colab_link": true
    },
    "kernelspec": {
      "name": "python3",
      "display_name": "Python 3"
    },
    "language_info": {
      "name": "python"
    }
  },
  "cells": [
    {
      "cell_type": "markdown",
      "metadata": {
        "id": "view-in-github",
        "colab_type": "text"
      },
      "source": [
        "<a href=\"https://colab.research.google.com/github/alma-scheffer/Shoe_market_segmentation/blob/main/Market_segmentation_shoes.ipynb\" target=\"_parent\"><img src=\"https://colab.research.google.com/assets/colab-badge.svg\" alt=\"Open In Colab\"/></a>"
      ]
    },
    {
      "cell_type": "markdown",
      "source": [
        "Dataset used: https://www.kaggle.com/vjchoudhary7/customer-segmentation-tutorial-in-python"
      ],
      "metadata": {
        "id": "AJSvEQJkoaaW"
      }
    },
    {
      "cell_type": "code",
      "execution_count": 2,
      "metadata": {
        "colab": {
          "base_uri": "https://localhost:8080/"
        },
        "id": "ZGIJiBk4L0E-",
        "outputId": "36daaba1-5a11-4007-91f5-44a17f4d1a6f"
      },
      "outputs": [
        {
          "output_type": "stream",
          "name": "stdout",
          "text": [
            "Mounted at /content/drive\n"
          ]
        }
      ],
      "source": [
        "import pandas as pd\n",
        "import numpy as np\n",
        "import seaborn as sns\n",
        "import matplotlib.pyplot as plt\n",
        "\n",
        "from sklearn.cluster import KMeans\n",
        "from sklearn.preprocessing import StandardScaler\n",
        "from sklearn.metrics import silhouette_score\n",
        "\n",
        "from google.colab import drive\n",
        "drive.mount (\"/content/drive\")"
      ]
    },
    {
      "cell_type": "code",
      "source": [
        "customers = pd.read_csv('/content/drive/MyDrive/Mall_Customers.csv')"
      ],
      "metadata": {
        "id": "6WprrV6pL3do"
      },
      "execution_count": 98,
      "outputs": []
    },
    {
      "cell_type": "markdown",
      "source": [
        "# Data analysis"
      ],
      "metadata": {
        "id": "k5miFTN2N24d"
      }
    },
    {
      "cell_type": "markdown",
      "source": [
        "@ Higher spending score means that the customer spends more money."
      ],
      "metadata": {
        "id": "SJjPkhxOXg55"
      }
    },
    {
      "cell_type": "markdown",
      "source": [
        "@ In usual: the more data the better the modell. However if only 200 rows, it is important to think through the importance of each column, i.e. Age and Gender."
      ],
      "metadata": {
        "id": "5KylvJmoYHfc"
      }
    },
    {
      "cell_type": "code",
      "source": [
        "customers.info()"
      ],
      "metadata": {
        "colab": {
          "base_uri": "https://localhost:8080/"
        },
        "id": "Y5IQyRTwNTzq",
        "outputId": "c6fd7f6b-8e85-4607-96ba-e9b8e4a2405a"
      },
      "execution_count": 99,
      "outputs": [
        {
          "output_type": "stream",
          "name": "stdout",
          "text": [
            "<class 'pandas.core.frame.DataFrame'>\n",
            "RangeIndex: 200 entries, 0 to 199\n",
            "Data columns (total 5 columns):\n",
            " #   Column                  Non-Null Count  Dtype \n",
            "---  ------                  --------------  ----- \n",
            " 0   CustomerID              200 non-null    int64 \n",
            " 1   Gender                  200 non-null    object\n",
            " 2   Age                     200 non-null    int64 \n",
            " 3   Annual Income (k$)      200 non-null    int64 \n",
            " 4   Spending Score (1-100)  200 non-null    int64 \n",
            "dtypes: int64(4), object(1)\n",
            "memory usage: 7.9+ KB\n"
          ]
        }
      ]
    },
    {
      "cell_type": "code",
      "source": [
        "customers[\"Gender\"].value_counts()\n",
        "# No missing value"
      ],
      "metadata": {
        "colab": {
          "base_uri": "https://localhost:8080/"
        },
        "id": "x8CkyEAuP16e",
        "outputId": "d7246378-dd18-4843-9c72-6a3a888578a6"
      },
      "execution_count": 100,
      "outputs": [
        {
          "output_type": "execute_result",
          "data": {
            "text/plain": [
              "Female    112\n",
              "Male       88\n",
              "Name: Gender, dtype: int64"
            ]
          },
          "metadata": {},
          "execution_count": 100
        }
      ]
    },
    {
      "cell_type": "code",
      "source": [
        "sns.histplot(x = customers[\"Age\"], hue = customers[\"Gender\"])\n",
        "plt.title(\"Distribution of Age divided by Gender\")\n",
        "plt.show()"
      ],
      "metadata": {
        "colab": {
          "base_uri": "https://localhost:8080/",
          "height": 295
        },
        "id": "u4nztlAgQHaw",
        "outputId": "7bec9dd7-f623-47f9-b6d0-9fad239d4f73"
      },
      "execution_count": 101,
      "outputs": [
        {
          "output_type": "display_data",
          "data": {
            "image/png": "[encoded data removed]",
            "text/plain": [
              "<Figure size 432x288 with 1 Axes>"
            ]
          },
          "metadata": {
            "needs_background": "light"
          }
        }
      ]
    },
    {
      "cell_type": "code",
      "source": [
        "sns.histplot(x = customers[\"Annual Income (k$)\"], hue = customers[\"Gender\"])\n",
        "plt.title(\"Distribution of Annaul Income (k$) divided by Gender\")\n",
        "plt.show()"
      ],
      "metadata": {
        "colab": {
          "base_uri": "https://localhost:8080/",
          "height": 295
        },
        "id": "prFmrOX8P5cP",
        "outputId": "870f492d-2da2-4c13-f8e4-93f436783f7c"
      },
      "execution_count": 92,
      "outputs": [
        {
          "output_type": "display_data",
          "data": {
            "image/png": "[encoded data removed]",
            "text/plain": [
              "<Figure size 432x288 with 1 Axes>"
            ]
          },
          "metadata": {
            "needs_background": "light"
          }
        }
      ]
    },
    {
      "cell_type": "code",
      "source": [
        "sns.histplot(x = customers[\"Spending Score (1-100)\"], hue = customers[\"Gender\"])\n",
        "plt.title(\"Distribution of Spending score divided by Gender\")\n",
        "plt.show()"
      ],
      "metadata": {
        "colab": {
          "base_uri": "https://localhost:8080/",
          "height": 295
        },
        "id": "4qm0D8hARU06",
        "outputId": "1692c3ee-c328-42dd-9940-4084ad642483"
      },
      "execution_count": 93,
      "outputs": [
        {
          "output_type": "display_data",
          "data": {
            "image/png": "[encoded data removed]",
            "text/plain": [
              "<Figure size 432x288 with 1 Axes>"
            ]
          },
          "metadata": {
            "needs_background": "light"
          }
        }
      ]
    },
    {
      "cell_type": "markdown",
      "source": [
        "# Create the segments"
      ],
      "metadata": {
        "id": "WDAwnx-iNmnD"
      }
    },
    {
      "cell_type": "code",
      "source": [
        "customers.head()"
      ],
      "metadata": {
        "colab": {
          "base_uri": "https://localhost:8080/",
          "height": 206
        },
        "id": "NYLFb4MiSQ6-",
        "outputId": "6aa7feb6-ff43-4176-bbcc-5e1f04872bdd"
      },
      "execution_count": 102,
      "outputs": [
        {
          "output_type": "execute_result",
          "data": {
            "text/html": [
              "<div>\n",
              "<style scoped>\n",
              "    .dataframe tbody tr th:only-of-type {\n",
              "        vertical-align: middle;\n",
              "    }\n",
              "\n",
              "    .dataframe tbody tr th {\n",
              "        vertical-align: top;\n",
              "    }\n",
              "\n",
              "    .dataframe thead th {\n",
              "        text-align: right;\n",
              "    }\n",
              "</style>\n",
              "<table border=\"1\" class=\"dataframe\">\n",
              "  <thead>\n",
              "    <tr style=\"text-align: right;\">\n",
              "      <th></th>\n",
              "      <th>CustomerID</th>\n",
              "      <th>Gender</th>\n",
              "      <th>Age</th>\n",
              "      <th>Annual Income (k$)</th>\n",
              "      <th>Spending Score (1-100)</th>\n",
              "    </tr>\n",
              "  </thead>\n",
              "  <tbody>\n",
              "    <tr>\n",
              "      <th>0</th>\n",
              "      <td>1</td>\n",
              "      <td>Male</td>\n",
              "      <td>19</td>\n",
              "      <td>15</td>\n",
              "      <td>39</td>\n",
              "    </tr>\n",
              "    <tr>\n",
              "      <th>1</th>\n",
              "      <td>2</td>\n",
              "      <td>Male</td>\n",
              "      <td>21</td>\n",
              "      <td>15</td>\n",
              "      <td>81</td>\n",
              "    </tr>\n",
              "    <tr>\n",
              "      <th>2</th>\n",
              "      <td>3</td>\n",
              "      <td>Female</td>\n",
              "      <td>20</td>\n",
              "      <td>16</td>\n",
              "      <td>6</td>\n",
              "    </tr>\n",
              "    <tr>\n",
              "      <th>3</th>\n",
              "      <td>4</td>\n",
              "      <td>Female</td>\n",
              "      <td>23</td>\n",
              "      <td>16</td>\n",
              "      <td>77</td>\n",
              "    </tr>\n",
              "    <tr>\n",
              "      <th>4</th>\n",
              "      <td>5</td>\n",
              "      <td>Female</td>\n",
              "      <td>31</td>\n",
              "      <td>17</td>\n",
              "      <td>40</td>\n",
              "    </tr>\n",
              "  </tbody>\n",
              "</table>\n",
              "</div>"
            ],
            "text/plain": [
              "   CustomerID  Gender  Age  Annual Income (k$)  Spending Score (1-100)\n",
              "0           1    Male   19                  15                      39\n",
              "1           2    Male   21                  15                      81\n",
              "2           3  Female   20                  16                       6\n",
              "3           4  Female   23                  16                      77\n",
              "4           5  Female   31                  17                      40"
            ]
          },
          "metadata": {},
          "execution_count": 102
        }
      ]
    },
    {
      "cell_type": "code",
      "source": [
        "# Not needed for the final modell, only for modell comparison (1st and 2nd)\n",
        "# Adding a new column, where gender is numerical\n",
        "# customers[\"Gender_numerical\"] = customers[\"Gender\"].factorize()[0]"
      ],
      "metadata": {
        "id": "PA_krXQPOz-r"
      },
      "execution_count": 103,
      "outputs": []
    },
    {
      "cell_type": "code",
      "source": [
        "sns.heatmap(customers.corr(), center = 0, annot = True)\n",
        "plt.show()\n",
        "\n",
        "# There is no column, which has high correlation to other (highest is age negatively with spending score -0.33)\n",
        "# CustomerID is most probably based on the creation of the database, but not relevant"
      ],
      "metadata": {
        "colab": {
          "base_uri": "https://localhost:8080/",
          "height": 377
        },
        "id": "xzMAavnfnvby",
        "outputId": "89b4e982-9233-475e-f7fc-80fee1cecae1"
      },
      "execution_count": 104,
      "outputs": [
        {
          "output_type": "display_data",
          "data": {
            "image/png": "[encoded data removed]",
            "text/plain": [
              "<Figure size 432x288 with 2 Axes>"
            ]
          },
          "metadata": {
            "needs_background": "light"
          }
        }
      ]
    },
    {
      "cell_type": "markdown",
      "source": [
        "## 1st modell: all numerical columns used as input"
      ],
      "metadata": {
        "id": "qio5MFKsc6Ie"
      }
    },
    {
      "cell_type": "markdown",
      "source": [
        "Silhouette score: 0.42, 10 clusters"
      ],
      "metadata": {
        "id": "rKaBL4UodUnV"
      }
    },
    {
      "cell_type": "code",
      "source": [
        "X = customers[[\"Age\",\"Annual Income (k$)\",\"Spending Score (1-100)\",\"Gender_numerical\"]]\n",
        "\n",
        "# Standardize the data:\n",
        "scaler = StandardScaler()\n",
        "scaler.fit(X)\n",
        "X_scaled = scaler.transform(X)"
      ],
      "metadata": {
        "colab": {
          "base_uri": "https://localhost:8080/"
        },
        "id": "REZLdPoFNU4s",
        "outputId": "a8282df4-a08a-4e17-b25c-ea9439b46c83"
      },
      "execution_count": 18,
      "outputs": [
        {
          "output_type": "execute_result",
          "data": {
            "text/plain": [
              "KMeans(n_clusters=3, random_state=42)"
            ]
          },
          "metadata": {},
          "execution_count": 18
        }
      ]
    },
    {
      "cell_type": "code",
      "source": [
        "silhouette_list = []\n",
        "for item in range(2,11):\n",
        "    modelKM = KMeans(n_clusters=item)\n",
        "    modelKM.fit(X_scaled)\n",
        "    silhouette_list.append(silhouette_score(X_scaled, modelKM.labels_))\n",
        "\n",
        "print(\"The best option to create \"+ str(silhouette_list.index(max(silhouette_list))+2) + \\\n",
        "      \" clusters, where silhouette score is :\" + str(max(silhouette_list)) + \".\")"
      ],
      "metadata": {
        "colab": {
          "base_uri": "https://localhost:8080/"
        },
        "id": "bCLuf-xKScgH",
        "outputId": "4ba68bec-c2b5-4936-ec9b-eaebb3ab0aa0"
      },
      "execution_count": 23,
      "outputs": [
        {
          "output_type": "stream",
          "name": "stdout",
          "text": [
            "The best option to create 10 clusters, where silhouette score is :0.42011198117622145.\n"
          ]
        }
      ]
    },
    {
      "cell_type": "code",
      "source": [
        "# To find 10 clusters\n",
        "modelKM10 = KMeans(n_clusters=10, random_state = 42)\n",
        "modelKM10.fit(X_scaled)"
      ],
      "metadata": {
        "colab": {
          "base_uri": "https://localhost:8080/"
        },
        "id": "bvF068X6TPb_",
        "outputId": "ea6cd54e-10af-4055-c4b0-e34e117685a9"
      },
      "execution_count": 25,
      "outputs": [
        {
          "output_type": "execute_result",
          "data": {
            "text/plain": [
              "KMeans(n_clusters=10, random_state=42)"
            ]
          },
          "metadata": {},
          "execution_count": 25
        }
      ]
    },
    {
      "cell_type": "code",
      "source": [
        "# customers[\"cluster_label\"] = modelKM10.labels_"
      ],
      "metadata": {
        "id": "kd6NiGHoSMwU"
      },
      "execution_count": 26,
      "outputs": []
    },
    {
      "cell_type": "code",
      "source": [
        "print(modelKM10.cluster_centers_.shape)\n",
        "print(modelKM10.cluster_centers_)\n",
        "cluster_age = modelKM10.cluster_centers_[:,0]\n",
        "cluster_income = modelKM10.cluster_centers_[:,1]"
      ],
      "metadata": {
        "id": "UQzCyLReTC6d"
      },
      "execution_count": null,
      "outputs": []
    },
    {
      "cell_type": "code",
      "source": [
        "fig, axes = plt.subplots(1,2, figsize = (10, 5))\n",
        "\n",
        "# -- Clustered data -- #\n",
        "sns.scatterplot(ax = axes[0],\n",
        "                x = X_scaled[:,0],                # Same, since the column order is kept \n",
        "                y = X_scaled[:,1],                # Same, since the column order is kept\n",
        "                hue = modelKM10.labels_)           # Actually the same but saved the step to save into a new column / variable\n",
        "\n",
        "axes[0].set_xlabel(\"Age\")\n",
        "axes[0].set_ylabel(\"Annual income\")\n",
        "axes[0].set_title(\"10 clusters\")                   # Adjusted\n",
        "\n",
        "# -- Cluster centers -- #\n",
        "sns.scatterplot(ax = axes[0],\n",
        "                x = modelKM10.cluster_centers_[:,0],       # Actually the same but saved the step to save into a new column / variable\n",
        "                y = modelKM10.cluster_centers_[:,1],       # Actually the same but saved the step to save into a new column / variable\n",
        "                marker = \"X\",       # Change marker form to X\n",
        "                size = modelKM10.cluster_centers_[:,0],    # Adjusted\n",
        "                sizes = (400,200),  # Increase the size for the centers\n",
        "                color=\"red\",         # Black color\n",
        "                legend = None)      # No legend for the centers\n",
        "\n",
        "plt.show()"
      ],
      "metadata": {
        "id": "aG4nFl_tSpGX"
      },
      "execution_count": null,
      "outputs": []
    },
    {
      "cell_type": "markdown",
      "source": [
        "## 2nd modell: all numerical columns, except age"
      ],
      "metadata": {
        "id": "_nizlDfIYVRe"
      }
    },
    {
      "cell_type": "markdown",
      "source": [
        "Silhouette score is 0.55, 10 clusters"
      ],
      "metadata": {
        "id": "56enkFHvdOWB"
      }
    },
    {
      "cell_type": "code",
      "source": [
        "X_wo_Age = customers[[\"Annual Income (k$)\",\"Spending Score (1-100)\",\"Gender_numerical\"]]\n",
        "\n",
        "# Standardize the data:\n",
        "scaler = StandardScaler()\n",
        "scaler.fit(X_wo_Age)\n",
        "X_scaled_wo_Age = scaler.transform(X_wo_Age)\n",
        "\n",
        "silhouette_list = []\n",
        "for item in range(2,11):\n",
        "    modelKM = KMeans(n_clusters=item)\n",
        "    modelKM.fit(X_scaled_wo_Age)\n",
        "    silhouette_list.append(silhouette_score(X_scaled_wo_Age, modelKM.labels_))\n",
        "\n",
        "print(\"The best option to create \"+ str(silhouette_list.index(max(silhouette_list))+2) + \\\n",
        "      \" clusters, where silhouette score is :\" + str(max(silhouette_list)) + \".\")"
      ],
      "metadata": {
        "colab": {
          "base_uri": "https://localhost:8080/"
        },
        "id": "tgCDrpQlYURR",
        "outputId": "4b73d5ea-a4d8-40fb-b77a-54d091855a8f"
      },
      "execution_count": 32,
      "outputs": [
        {
          "output_type": "stream",
          "name": "stdout",
          "text": [
            "The best option to create 10 clusters, where silhouette score is :0.5512366718660201.\n"
          ]
        }
      ]
    },
    {
      "cell_type": "markdown",
      "source": [
        "## 3rd modell: all numerical columns, except gender"
      ],
      "metadata": {
        "id": "uO_JW51Nde32"
      }
    },
    {
      "cell_type": "markdown",
      "source": [
        "\n",
        "Silhouette score is 0.43, 6 clusters"
      ],
      "metadata": {
        "id": "j2LpGDFMdq7_"
      }
    },
    {
      "cell_type": "code",
      "source": [
        "X_wo_Gender = customers[[\"Age\", \"Annual Income (k$)\",\"Spending Score (1-100)\"]]\n",
        "\n",
        "# Standardize the data:\n",
        "scaler = StandardScaler()\n",
        "scaler.fit(X_wo_Gender)\n",
        "X_scaled_wo_Gender = scaler.transform(X_wo_Gender)\n",
        "\n",
        "silhouette_list = []\n",
        "for item in range(2,11):\n",
        "    modelKM = KMeans(n_clusters=item)\n",
        "    modelKM.fit(X_scaled_wo_Gender)\n",
        "    silhouette_list.append(silhouette_score(X_scaled_wo_Gender, modelKM.labels_))\n",
        "\n",
        "print(\"The best option to create \"+ str(silhouette_list.index(max(silhouette_list))+2) + \\\n",
        "      \" clusters, where silhouette score is :\" + str(max(silhouette_list)) + \".\")"
      ],
      "metadata": {
        "colab": {
          "base_uri": "https://localhost:8080/"
        },
        "id": "MjhGu8gEZLOn",
        "outputId": "95b83220-ccbd-4af7-9de9-5e62e8352e9d"
      },
      "execution_count": 34,
      "outputs": [
        {
          "output_type": "stream",
          "name": "stdout",
          "text": [
            "The best option to create 6 clusters, where silhouette score is :0.4284167762892593.\n"
          ]
        }
      ]
    },
    {
      "cell_type": "markdown",
      "source": [
        "## 4th modell: only income and spending score"
      ],
      "metadata": {
        "id": "lC2Z9VaadveG"
      }
    },
    {
      "cell_type": "markdown",
      "source": [
        "Silhouette score is 0.55, 5 clusters"
      ],
      "metadata": {
        "id": "R8fDwTbWdzF3"
      }
    },
    {
      "cell_type": "code",
      "source": [
        "X_simple = customers[[\"Annual Income (k$)\",\"Spending Score (1-100)\"]]\n",
        "\n",
        "# Standardize the data:\n",
        "scaler = StandardScaler()\n",
        "scaler.fit(X_simple)\n",
        "X_scaled_simple = scaler.transform(X_simple)\n",
        "\n",
        "silhouette_list = []\n",
        "for item in range(2,11):\n",
        "    modelKM = KMeans(n_clusters=item)\n",
        "    modelKM.fit(X_scaled_simple)\n",
        "    silhouette_list.append(silhouette_score(X_scaled_simple, modelKM.labels_))\n",
        "\n",
        "print(\"The best option to create \"+ str(silhouette_list.index(max(silhouette_list))+2) + \\\n",
        "      \" clusters, where silhouette score is :\" + str(max(silhouette_list)) + \".\")"
      ],
      "metadata": {
        "colab": {
          "base_uri": "https://localhost:8080/"
        },
        "id": "urfivesNZZph",
        "outputId": "112536a0-0eb4-4add-f15b-7f82426bf850"
      },
      "execution_count": 47,
      "outputs": [
        {
          "output_type": "stream",
          "name": "stdout",
          "text": [
            "The best option to create 5 clusters, where silhouette score is :0.5546571631111091.\n"
          ]
        }
      ]
    },
    {
      "cell_type": "code",
      "source": [
        "modelKM5 = KMeans(n_clusters=5, random_state = 42)\n",
        "modelKM5.fit(X_scaled_simple)"
      ],
      "metadata": {
        "colab": {
          "base_uri": "https://localhost:8080/"
        },
        "id": "0SYfBVlYZqAJ",
        "outputId": "ab9d1305-5800-4ba5-e5a1-ae3c02feab07"
      },
      "execution_count": 48,
      "outputs": [
        {
          "output_type": "execute_result",
          "data": {
            "text/plain": [
              "KMeans(n_clusters=5, random_state=42)"
            ]
          },
          "metadata": {},
          "execution_count": 48
        }
      ]
    },
    {
      "cell_type": "code",
      "source": [
        "customers[\"cluster_label\"] = modelKM5.labels_"
      ],
      "metadata": {
        "id": "uNuI5GIgZ19g"
      },
      "execution_count": 49,
      "outputs": []
    },
    {
      "cell_type": "code",
      "source": [
        "# -- Clustered data -- #\n",
        "sns.scatterplot(x = X_scaled_simple[:,0],                # Same, since the column order is kept \n",
        "                y = X_scaled_simple[:,1],                # Same, since the column order is kept\n",
        "                hue = modelKM5.labels_,           # Actually the same but saved the step to save into a new column / variable\n",
        "                palette = sns.color_palette(\"Spectral\", as_cmap=True))\n",
        "\n",
        "plt.title(\"5 clusters with cluster center\")                   # Adjusted\n",
        "\n",
        "# -- Cluster centers -- #\n",
        "sns.scatterplot(x = modelKM5.cluster_centers_[:,0],       # Actually the same but saved the step to save into a new column / variable\n",
        "                y = modelKM5.cluster_centers_[:,1],       # Actually the same but saved the step to save into a new column / variable\n",
        "                marker = \"X\",       # Change marker form to X\n",
        "                size = modelKM5.cluster_centers_[:,0],    # Adjusted\n",
        "                sizes = (400,400),  # Increase the size for the centers\n",
        "                color=\"black\",         # Black color\n",
        "                legend = None)      # No legend for the centers\n",
        "\n",
        "plt.show()\n",
        "\n",
        "# Adjust the coloring here"
      ],
      "metadata": {
        "colab": {
          "base_uri": "https://localhost:8080/",
          "height": 281
        },
        "id": "zvHS3waYZl2h",
        "outputId": "c80184af-a5b1-444c-bf03-daeb5231f23e"
      },
      "execution_count": 105,
      "outputs": [
        {
          "output_type": "display_data",
          "data": {
            "image/png": "[encoded data removed]",
            "text/plain": [
              "<Figure size 432x288 with 1 Axes>"
            ]
          },
          "metadata": {
            "needs_background": "light"
          }
        }
      ]
    },
    {
      "cell_type": "markdown",
      "source": [
        "**Conclusion**: creating for a small dataset (200 rows) more than 5 clusters is providing very small clusters, where the differences are difficult to measure and the potential market size seems to limited.\n",
        "<br> **For further analysis we have chosen therefore the segmentation modell based on Annual Income and Spending Score**, where silhouette score is one of the highest and the groups are built based on the most relevant measures for our purposes."
      ],
      "metadata": {
        "id": "YazUxqwZoqYl"
      }
    },
    {
      "cell_type": "markdown",
      "source": [
        "# Explore the differences among the groups"
      ],
      "metadata": {
        "id": "LXeVq4YTN8Fi"
      }
    },
    {
      "cell_type": "code",
      "source": [
        "customers.head()"
      ],
      "metadata": {
        "colab": {
          "base_uri": "https://localhost:8080/",
          "height": 206
        },
        "id": "X9TQnd5gabwy",
        "outputId": "0ba59ae3-1b91-407e-93bd-1be1e6bc02aa"
      },
      "execution_count": 59,
      "outputs": [
        {
          "output_type": "execute_result",
          "data": {
            "text/html": [
              "<div>\n",
              "<style scoped>\n",
              "    .dataframe tbody tr th:only-of-type {\n",
              "        vertical-align: middle;\n",
              "    }\n",
              "\n",
              "    .dataframe tbody tr th {\n",
              "        vertical-align: top;\n",
              "    }\n",
              "\n",
              "    .dataframe thead th {\n",
              "        text-align: right;\n",
              "    }\n",
              "</style>\n",
              "<table border=\"1\" class=\"dataframe\">\n",
              "  <thead>\n",
              "    <tr style=\"text-align: right;\">\n",
              "      <th></th>\n",
              "      <th>CustomerID</th>\n",
              "      <th>Gender</th>\n",
              "      <th>Age</th>\n",
              "      <th>Annual Income (k$)</th>\n",
              "      <th>Spending Score (1-100)</th>\n",
              "      <th>cluster_label</th>\n",
              "    </tr>\n",
              "  </thead>\n",
              "  <tbody>\n",
              "    <tr>\n",
              "      <th>0</th>\n",
              "      <td>1</td>\n",
              "      <td>Male</td>\n",
              "      <td>19</td>\n",
              "      <td>15</td>\n",
              "      <td>39</td>\n",
              "      <td>2</td>\n",
              "    </tr>\n",
              "    <tr>\n",
              "      <th>1</th>\n",
              "      <td>2</td>\n",
              "      <td>Male</td>\n",
              "      <td>21</td>\n",
              "      <td>15</td>\n",
              "      <td>81</td>\n",
              "      <td>3</td>\n",
              "    </tr>\n",
              "    <tr>\n",
              "      <th>2</th>\n",
              "      <td>3</td>\n",
              "      <td>Female</td>\n",
              "      <td>20</td>\n",
              "      <td>16</td>\n",
              "      <td>6</td>\n",
              "      <td>2</td>\n",
              "    </tr>\n",
              "    <tr>\n",
              "      <th>3</th>\n",
              "      <td>4</td>\n",
              "      <td>Female</td>\n",
              "      <td>23</td>\n",
              "      <td>16</td>\n",
              "      <td>77</td>\n",
              "      <td>3</td>\n",
              "    </tr>\n",
              "    <tr>\n",
              "      <th>4</th>\n",
              "      <td>5</td>\n",
              "      <td>Female</td>\n",
              "      <td>31</td>\n",
              "      <td>17</td>\n",
              "      <td>40</td>\n",
              "      <td>2</td>\n",
              "    </tr>\n",
              "  </tbody>\n",
              "</table>\n",
              "</div>"
            ],
            "text/plain": [
              "   CustomerID  Gender  ...  Spending Score (1-100)  cluster_label\n",
              "0           1    Male  ...                      39              2\n",
              "1           2    Male  ...                      81              3\n",
              "2           3  Female  ...                       6              2\n",
              "3           4  Female  ...                      77              3\n",
              "4           5  Female  ...                      40              2\n",
              "\n",
              "[5 rows x 6 columns]"
            ]
          },
          "metadata": {},
          "execution_count": 59
        }
      ]
    },
    {
      "cell_type": "code",
      "source": [
        "sns.boxplot(data = customers,\n",
        "            x = customers[\"cluster_label\"],\n",
        "            y = customers[\"Annual Income (k$)\"])\n",
        "plt.show()"
      ],
      "metadata": {
        "colab": {
          "base_uri": "https://localhost:8080/",
          "height": 280
        },
        "id": "c0A_VQ15UYec",
        "outputId": "e670555e-4f26-4c71-e5af-78b403f0d751"
      },
      "execution_count": 60,
      "outputs": [
        {
          "output_type": "display_data",
          "data": {
            "image/png": "[encoded data removed]",
            "text/plain": [
              "<Figure size 432x288 with 1 Axes>"
            ]
          },
          "metadata": {
            "needs_background": "light"
          }
        }
      ]
    },
    {
      "cell_type": "code",
      "source": [
        "sns.boxplot(data = customers,\n",
        "            x = customers[\"cluster_label\"],\n",
        "            y = customers[\"Spending Score (1-100)\"])\n",
        "plt.show()"
      ],
      "metadata": {
        "colab": {
          "base_uri": "https://localhost:8080/",
          "height": 280
        },
        "id": "a49g4keXfq2x",
        "outputId": "233f1785-d602-45bd-fc2c-b99aa7c32d7d"
      },
      "execution_count": 63,
      "outputs": [
        {
          "output_type": "display_data",
          "data": {
            "image/png": "[encoded data removed]",
            "text/plain": [
              "<Figure size 432x288 with 1 Axes>"
            ]
          },
          "metadata": {
            "needs_background": "light"
          }
        }
      ]
    },
    {
      "cell_type": "code",
      "source": [
        "sns.boxplot(data = customers,\n",
        "            x = customers[\"cluster_label\"],\n",
        "            y = customers[\"Age\"])\n",
        "plt.show()"
      ],
      "metadata": {
        "colab": {
          "base_uri": "https://localhost:8080/",
          "height": 280
        },
        "id": "GBQoV6rUfx_1",
        "outputId": "46ee51f5-1b7f-4337-9e9e-fcd9f8d9fccb"
      },
      "execution_count": 64,
      "outputs": [
        {
          "output_type": "display_data",
          "data": {
            "image/png": "[encoded data removed]",
            "text/plain": [
              "<Figure size 432x288 with 1 Axes>"
            ]
          },
          "metadata": {
            "needs_background": "light"
          }
        }
      ]
    },
    {
      "cell_type": "code",
      "source": [
        "sns.boxplot(data = customers,\n",
        "            x = customers[\"Gender\"],\n",
        "            y = customers[\"cluster_label\"])\n",
        "plt.show()"
      ],
      "metadata": {
        "colab": {
          "base_uri": "https://localhost:8080/",
          "height": 279
        },
        "id": "xhZZ-o3Qf346",
        "outputId": "6e18126d-2e62-4697-a5d0-051878e8cd9f"
      },
      "execution_count": 66,
      "outputs": [
        {
          "output_type": "display_data",
          "data": {
            "image/png": "[encoded data removed]",
            "text/plain": [
              "<Figure size 432x288 with 1 Axes>"
            ]
          },
          "metadata": {
            "needs_background": "light"
          }
        }
      ]
    },
    {
      "cell_type": "code",
      "source": [
        "sns.scatterplot(data = customers,\n",
        "                x = customers[\"Annual Income (k$)\"],\n",
        "                y = customers[\"Spending Score (1-100)\"],\n",
        "                hue = \"cluster_label\", \n",
        "                palette = sns.color_palette(\"Spectral\", as_cmap=True))\n",
        "plt.show()"
      ],
      "metadata": {
        "colab": {
          "base_uri": "https://localhost:8080/",
          "height": 279
        },
        "id": "DMFlnycLa9Qj",
        "outputId": "a9ce4f1c-84ff-40bf-dce6-c51cc5f5eafa"
      },
      "execution_count": 62,
      "outputs": [
        {
          "output_type": "display_data",
          "data": {
            "image/png": "[encoded data removed]",
            "text/plain": [
              "<Figure size 432x288 with 1 Axes>"
            ]
          },
          "metadata": {
            "needs_background": "light"
          }
        }
      ]
    },
    {
      "cell_type": "code",
      "source": [
        "customers[\"cluster_label\"].value_counts(normalize= True)"
      ],
      "metadata": {
        "colab": {
          "base_uri": "https://localhost:8080/"
        },
        "id": "OYEdana8gE_9",
        "outputId": "39077e67-9858-4ba9-f2bc-efb6b84dec18"
      },
      "execution_count": 69,
      "outputs": [
        {
          "output_type": "execute_result",
          "data": {
            "text/plain": [
              "0    0.405\n",
              "4    0.195\n",
              "1    0.175\n",
              "2    0.115\n",
              "3    0.110\n",
              "Name: cluster_label, dtype: float64"
            ]
          },
          "metadata": {},
          "execution_count": 69
        }
      ]
    },
    {
      "cell_type": "code",
      "source": [
        "# If we assume that spending score is a percentage like value from the annual income, i.e. from disposable income\n",
        "# We can have a rough market estimation\n",
        "customers[\"potential market\"] = customers[\"Spending Score (1-100)\"] * customers[\"Annual Income (k$)\"] / 100"
      ],
      "metadata": {
        "id": "QKh4sNkCg5YE"
      },
      "execution_count": 72,
      "outputs": []
    },
    {
      "cell_type": "code",
      "source": [
        "print(customers[\"potential market\"].sum())\n",
        "print(customers[\"potential market\"][customers[\"cluster_label\"] == 4].sum())\n",
        "print(customers[\"potential market\"][customers[\"cluster_label\"] == 0].sum())\n",
        "\n",
        "#Estimation \n",
        "(2769 + 2205 )/6093"
      ],
      "metadata": {
        "colab": {
          "base_uri": "https://localhost:8080/"
        },
        "id": "7CbIn81bhHIB",
        "outputId": "b3ae6d75-2506-4a50-b6e4-f6773fa8b909"
      },
      "execution_count": 80,
      "outputs": [
        {
          "output_type": "stream",
          "name": "stdout",
          "text": [
            "6093.59\n",
            "2769.55\n",
            "2205.31\n"
          ]
        },
        {
          "output_type": "execute_result",
          "data": {
            "text/plain": [
              "0.8163466272772033"
            ]
          },
          "metadata": {},
          "execution_count": 80
        }
      ]
    },
    {
      "cell_type": "code",
      "source": [
        "# create data\n",
        "\n",
        "# Create a pieplot\n",
        "plt.pie(customers[\"cluster_label\"].value_counts(normalize= True))\n",
        "\n",
        "# add a circle at the center to transform it in a donut chart\n",
        "my_circle=plt.Circle( (0,0), 0.7, color='white')\n",
        "p=plt.gcf()\n",
        "p.gca().add_artist(my_circle)\n",
        "plt.show()\n",
        "\n",
        "# Add label"
      ],
      "metadata": {
        "colab": {
          "base_uri": "https://localhost:8080/",
          "height": 248
        },
        "id": "ob9w8Wo-gTIp",
        "outputId": "f4244fa6-b815-4996-b7db-580d349ea2a3"
      },
      "execution_count": 90,
      "outputs": [
        {
          "output_type": "display_data",
          "data": {
            "image/png": "[encoded data removed]",
            "text/plain": [
              "<Figure size 432x288 with 1 Axes>"
            ]
          },
          "metadata": {}
        }
      ]
    },
    {
      "cell_type": "markdown",
      "source": [
        "# Select a group"
      ],
      "metadata": {
        "id": "dMX8YcOAN_NL"
      }
    },
    {
      "cell_type": "markdown",
      "source": [
        "Cluster 4 seems to be the most profitable segment, however they are \"only\" 20 % of the market, in this case 39 potential customer.\n",
        "\n",
        "If we are selecting also cluster 0, we can target additional 40 % of the population, while still targeting a cluster with higher income and higher spending score metrics. However this move strongly depends on our ressources and market strategy. "
      ],
      "metadata": {
        "id": "AtGfgMBsbdAE"
      }
    },
    {
      "cell_type": "markdown",
      "source": [
        "# Further analysis after choosing our segment"
      ],
      "metadata": {
        "id": "-8M5R6M6No0v"
      }
    },
    {
      "cell_type": "code",
      "source": [
        "customers[customers[\"cluster_label\"] == 4].describe()"
      ],
      "metadata": {
        "colab": {
          "base_uri": "https://localhost:8080/",
          "height": 300
        },
        "id": "jB8iSHvGNrhZ",
        "outputId": "81beda27-b6b2-4914-812b-871eb9a7543e"
      },
      "execution_count": 82,
      "outputs": [
        {
          "output_type": "execute_result",
          "data": {
            "text/html": [
              "<div>\n",
              "<style scoped>\n",
              "    .dataframe tbody tr th:only-of-type {\n",
              "        vertical-align: middle;\n",
              "    }\n",
              "\n",
              "    .dataframe tbody tr th {\n",
              "        vertical-align: top;\n",
              "    }\n",
              "\n",
              "    .dataframe thead th {\n",
              "        text-align: right;\n",
              "    }\n",
              "</style>\n",
              "<table border=\"1\" class=\"dataframe\">\n",
              "  <thead>\n",
              "    <tr style=\"text-align: right;\">\n",
              "      <th></th>\n",
              "      <th>CustomerID</th>\n",
              "      <th>Age</th>\n",
              "      <th>Annual Income (k$)</th>\n",
              "      <th>Spending Score (1-100)</th>\n",
              "      <th>cluster_label</th>\n",
              "      <th>potential market</th>\n",
              "    </tr>\n",
              "  </thead>\n",
              "  <tbody>\n",
              "    <tr>\n",
              "      <th>count</th>\n",
              "      <td>39.000000</td>\n",
              "      <td>39.000000</td>\n",
              "      <td>39.000000</td>\n",
              "      <td>39.000000</td>\n",
              "      <td>39.0</td>\n",
              "      <td>39.000000</td>\n",
              "    </tr>\n",
              "    <tr>\n",
              "      <th>mean</th>\n",
              "      <td>162.000000</td>\n",
              "      <td>32.692308</td>\n",
              "      <td>86.538462</td>\n",
              "      <td>82.128205</td>\n",
              "      <td>4.0</td>\n",
              "      <td>71.014103</td>\n",
              "    </tr>\n",
              "    <tr>\n",
              "      <th>std</th>\n",
              "      <td>22.803509</td>\n",
              "      <td>3.728650</td>\n",
              "      <td>16.312485</td>\n",
              "      <td>9.364489</td>\n",
              "      <td>0.0</td>\n",
              "      <td>15.239602</td>\n",
              "    </tr>\n",
              "    <tr>\n",
              "      <th>min</th>\n",
              "      <td>124.000000</td>\n",
              "      <td>27.000000</td>\n",
              "      <td>69.000000</td>\n",
              "      <td>63.000000</td>\n",
              "      <td>4.0</td>\n",
              "      <td>51.120000</td>\n",
              "    </tr>\n",
              "    <tr>\n",
              "      <th>25%</th>\n",
              "      <td>143.000000</td>\n",
              "      <td>30.000000</td>\n",
              "      <td>75.500000</td>\n",
              "      <td>74.500000</td>\n",
              "      <td>4.0</td>\n",
              "      <td>60.000000</td>\n",
              "    </tr>\n",
              "    <tr>\n",
              "      <th>50%</th>\n",
              "      <td>162.000000</td>\n",
              "      <td>32.000000</td>\n",
              "      <td>79.000000</td>\n",
              "      <td>83.000000</td>\n",
              "      <td>4.0</td>\n",
              "      <td>68.640000</td>\n",
              "    </tr>\n",
              "    <tr>\n",
              "      <th>75%</th>\n",
              "      <td>181.000000</td>\n",
              "      <td>35.500000</td>\n",
              "      <td>95.000000</td>\n",
              "      <td>90.000000</td>\n",
              "      <td>4.0</td>\n",
              "      <td>80.870000</td>\n",
              "    </tr>\n",
              "    <tr>\n",
              "      <th>max</th>\n",
              "      <td>200.000000</td>\n",
              "      <td>40.000000</td>\n",
              "      <td>137.000000</td>\n",
              "      <td>97.000000</td>\n",
              "      <td>4.0</td>\n",
              "      <td>113.710000</td>\n",
              "    </tr>\n",
              "  </tbody>\n",
              "</table>\n",
              "</div>"
            ],
            "text/plain": [
              "       CustomerID        Age  ...  cluster_label  potential market\n",
              "count   39.000000  39.000000  ...           39.0         39.000000\n",
              "mean   162.000000  32.692308  ...            4.0         71.014103\n",
              "std     22.803509   3.728650  ...            0.0         15.239602\n",
              "min    124.000000  27.000000  ...            4.0         51.120000\n",
              "25%    143.000000  30.000000  ...            4.0         60.000000\n",
              "50%    162.000000  32.000000  ...            4.0         68.640000\n",
              "75%    181.000000  35.500000  ...            4.0         80.870000\n",
              "max    200.000000  40.000000  ...            4.0        113.710000\n",
              "\n",
              "[8 rows x 6 columns]"
            ]
          },
          "metadata": {},
          "execution_count": 82
        }
      ]
    },
    {
      "cell_type": "code",
      "source": [
        "customers[customers[\"cluster_label\"] == 4].columns"
      ],
      "metadata": {
        "colab": {
          "base_uri": "https://localhost:8080/"
        },
        "id": "GDN6opXPkO8r",
        "outputId": "2253f545-bdbc-46c2-da99-ead543ce4e6b"
      },
      "execution_count": 85,
      "outputs": [
        {
          "output_type": "execute_result",
          "data": {
            "text/plain": [
              "Index(['CustomerID', 'Gender', 'Age', 'Annual Income (k$)',\n",
              "       'Spending Score (1-100)', 'cluster_label', 'potential market'],\n",
              "      dtype='object')"
            ]
          },
          "metadata": {},
          "execution_count": 85
        }
      ]
    },
    {
      "cell_type": "code",
      "source": [
        "numCol = [\"Age\", \"Annual Income (k$)\", \"Spending Score (1-100)\"]\n",
        "fig, axes = plt.subplots(2,2, figsize = (16, 14))\n",
        "\n",
        "for col in customers[customers[\"cluster_label\"] == 4].columns:\n",
        "  if col in numCol:\n",
        "    sns.boxplot(ax = axes[int(numCol.index(col)//2),int(numCol.index(col)%2)],\n",
        "            data = customers[customers[\"cluster_label\"] == 4],\n",
        "            y = customers[customers[\"cluster_label\"] == 4][col], \n",
        "            x = \"Gender\")\n",
        "    axes[int(numCol.index(col)//2),int(numCol.index(col)%2)].set_title(col + \" boxplot\")\n",
        "plt.show()"
      ],
      "metadata": {
        "colab": {
          "base_uri": "https://localhost:8080/",
          "height": 839
        },
        "id": "FXXyjk1ViyVu",
        "outputId": "1e909f1c-d45b-4d33-9560-c34dbbfcaae3"
      },
      "execution_count": 88,
      "outputs": [
        {
          "output_type": "display_data",
          "data": {
            "image/png": "[encoded data removed]",
            "text/plain": [
              "<Figure size 1152x1008 with 4 Axes>"
            ]
          },
          "metadata": {
            "needs_background": "light"
          }
        }
      ]
    }
  ]
}